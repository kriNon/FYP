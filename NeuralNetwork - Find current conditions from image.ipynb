{
 "cells": [
  {
   "cell_type": "code",
   "execution_count": 1,
   "metadata": {},
   "outputs": [],
   "source": [
    "import torch\n",
    "import torch.nn as nn\n",
    "import torch.nn.functional as F\n",
    "\n",
    "#from torch.autograd import Variable\n",
    "\n",
    "import torchvision\n",
    "from torchvision import datasets\n",
    "from torchvision import transforms\n",
    "from torchvision.utils import save_image\n",
    "from torchsummary import summary\n",
    "\n",
    "import pandas\n",
    "\n",
    "import numpy as np\n",
    "\n",
    "import re\n",
    "\n",
    "#from pushover import notify\n",
    "from sksq96Utils import makegif\n",
    "from random import randint\n",
    "\n",
    "from IPython.display import Image\n",
    "from IPython.core.display import Image, display\n",
    "\n",
    "#%load_ext autoreload\n",
    "#%autoreload 2"
   ]
  },
  {
   "cell_type": "code",
   "execution_count": 2,
   "metadata": {},
   "outputs": [
    {
     "name": "stdout",
     "output_type": "stream",
     "text": [
      "True\n"
     ]
    }
   ],
   "source": [
    "# Device configuration\n",
    "print(torch.cuda.is_available())\n",
    "device = torch.device('cuda' if torch.cuda.is_available() else 'cpu')"
   ]
  },
  {
   "cell_type": "code",
   "execution_count": 3,
   "metadata": {},
   "outputs": [],
   "source": [
    "bs = 32\n",
    "\n"
   ]
  },
  {
   "cell_type": "code",
   "execution_count": 4,
   "metadata": {},
   "outputs": [],
   "source": [
    "class UnFlatten(nn.Module):\n",
    "    def forward(self, input, size=1024):\n",
    "        return input.view(input.size(0), size, 1, 1)\n",
    "class Flatten(nn.Module):\n",
    "    def forward(self, input):\n",
    "        return input.view(input.size(0), -1)\n",
    "class VAE(nn.Module):\n",
    "    def __init__(self, image_channels=3, h_dim=1024, z_dim=32):\n",
    "        super(VAE, self).__init__()\n",
    "        self.encoder = nn.Sequential(\n",
    "            nn.Conv2d(image_channels, 32, kernel_size=4, stride=2),\n",
    "            nn.ReLU(),\n",
    "            nn.Conv2d(32, 64, kernel_size=4, stride=2),\n",
    "            nn.ReLU(),\n",
    "            nn.Conv2d(64, 128, kernel_size=4, stride=2),\n",
    "            nn.ReLU(),\n",
    "            nn.Conv2d(128, 256, kernel_size=4, stride=2),\n",
    "            nn.ReLU(),\n",
    "            Flatten()\n",
    "        )\n",
    "        \n",
    "        self.fc1 = nn.Linear(h_dim, z_dim)\n",
    "        self.fc2 = nn.Linear(h_dim, z_dim)\n",
    "        self.fc3 = nn.Linear(z_dim, h_dim)\n",
    "        \n",
    "        self.decoder = nn.Sequential(\n",
    "            UnFlatten(),\n",
    "            nn.ConvTranspose2d(h_dim, 128, kernel_size=5, stride=2),\n",
    "            nn.ReLU(),\n",
    "            nn.ConvTranspose2d(128, 64, kernel_size=5, stride=2),\n",
    "            nn.ReLU(),\n",
    "            nn.ConvTranspose2d(64, 32, kernel_size=6, stride=2),\n",
    "            nn.ReLU(),\n",
    "            nn.ConvTranspose2d(32, image_channels, kernel_size=6, stride=2),\n",
    "            nn.Sigmoid(),\n",
    "        )\n",
    "        \n",
    "    def reparameterize(self, mu, logvar):\n",
    "        std = logvar.mul(0.5).exp_()\n",
    "        # return torch.normal(mu, std)\n",
    "        esp = torch.randn(*mu.size())\n",
    "        esp = esp.to(device)\n",
    "        z = mu + std * esp\n",
    "        return z\n",
    "    \n",
    "    def bottleneck(self, h):\n",
    "        mu, logvar = self.fc1(h), self.fc2(h)\n",
    "        z = self.reparameterize(mu, logvar)\n",
    "        return z, mu, logvar\n",
    "\n",
    "    def encode(self, x):\n",
    "        h = self.encoder(x)\n",
    "        z, mu, logvar = self.bottleneck(h)\n",
    "        return z, mu, logvar\n",
    "\n",
    "    def decode(self, z):\n",
    "        z = self.fc3(z)\n",
    "        z = self.decoder(z)\n",
    "        return z\n",
    "\n",
    "    def forward(self, x):\n",
    "        z, mu, logvar = self.encode(x)\n",
    "        z = self.decode(z)\n",
    "        return z, mu, logvar\n",
    "    \n"
   ]
  },
  {
   "cell_type": "code",
   "execution_count": 5,
   "metadata": {},
   "outputs": [],
   "source": [
    "image_channels = 3\n",
    "model = VAE(image_channels=image_channels).to(device)\n",
    "model.load_state_dict(torch.load('vae.torch', map_location=device))\n",
    "model=model.to(device)"
   ]
  },
  {
   "cell_type": "code",
   "execution_count": 6,
   "metadata": {},
   "outputs": [],
   "source": [
    "from torch.utils.data import DataLoader, Dataset\n",
    "import glob\n",
    "\n",
    "\n",
    "\n",
    "\n",
    "class CustomDatasetFromFile(Dataset):\n",
    "    def __init__(self, folder_path, data_len, image_list):\n",
    "        \"\"\"\n",
    "        A dataset example where the class is embedded in the file names\n",
    "        This data example also does not use any torch transforms\n",
    "\n",
    "        Args:\n",
    "            folder_path (string): path to image folder\n",
    "        \"\"\"\n",
    "        # Get image list\n",
    "        self.image_list = image_list\n",
    "        ## Calculate len\n",
    "        self.data_len = data_len\n",
    "        self.num_samples = data_len\n",
    "        \n",
    "        \n",
    "        \n",
    "        \n",
    "\n",
    "\n",
    "    def __getitem__(self, index):\n",
    "        from PIL import Image\n",
    "        # Get image name from the pandas df\n",
    "        single_image_path = self.image_list[index]\n",
    "\n",
    "        \n",
    "        ImageNameDataList = single_image_path[39:-4]\n",
    "        imageGroupNumber = ImageNameDataList.split(\"_\")[0]\n",
    "        imageFrameNumber = ImageNameDataList.split(\"_\")[1]\n",
    "        prevFrameNumber = max(1,int(imageFrameNumber)-1)\n",
    "        \n",
    "        previous_image_path2 = glob.glob(f'D:/Kris\\'s Workbench/FYP/TrainingData/0/'+str(imageGroupNumber)+'_'+str(prevFrameNumber)+'_'+'*')[0]\n",
    "            \n",
    "        # Open image\n",
    "        im_as_im = Image.open(single_image_path)\n",
    "        previousim_as_im = Image.open(previous_image_path2)\n",
    "        \n",
    "        preprocess=transforms.Compose([\n",
    "            transforms.Resize(64),\n",
    "            transforms.ToTensor(), \n",
    "            ])\n",
    "        \n",
    "        im_preprocessed = preprocess(im_as_im)\n",
    "        previousim_preprocessed = preprocess(previousim_as_im)\n",
    "        return (im_preprocessed,previousim_preprocessed,ImageNameDataList)\n",
    "\n",
    "    def __len__(self):\n",
    "        return len(self.image_list)"
   ]
  },
  {
   "cell_type": "code",
   "execution_count": 7,
   "metadata": {},
   "outputs": [],
   "source": [
    "folder_path=f'D:/Kris\\'s Workbench/FYP/TrainingData/0/'\n",
    "image_list = glob.glob(folder_path+'*')\n",
    "data_len = len(image_list)\n",
    "\n",
    "dataset = CustomDatasetFromFile(folder_path=f'D:/Kris\\'s Workbench/FYP/TrainingData/0/',data_len=data_len, image_list=image_list)\n",
    "dataloader = torch.utils.data.DataLoader(dataset, batch_size=1, shuffle=True)\n"
   ]
  },
  {
   "cell_type": "code",
   "execution_count": 8,
   "metadata": {},
   "outputs": [
    {
     "name": "stdout",
     "output_type": "stream",
     "text": [
      "torch.Size([1, 3, 64, 64])\n"
     ]
    },
    {
     "data": {
      "image/png": "[encoded data removed]",
      "text/plain": [
       "<IPython.core.display.Image object>"
      ]
     },
     "execution_count": 8,
     "metadata": {},
     "output_type": "execute_result"
    }
   ],
   "source": [
    "# Fixed input for debugging\n",
    "CurrentImage, PreviousImage, _ = next(iter(dataloader))\n",
    "print(CurrentImage.shape)\n",
    "curr, _, _ = model.encode(CurrentImage.to(device))\n",
    "prev, _, _ = model.encode(PreviousImage.to(device))\n",
    "#concatenatedTensor = torch.cat((prev, curr), 0)\n",
    "\n",
    "save_image(model.decode(curr)[0], 'imagea.png')\n",
    "save_image(model.decode(prev)[0], 'imageb.png')\n",
    "\n",
    "#def decodeConcatenatedTensor(Tensor):\n",
    "#    a, b = concatenatedTensor.split(32, dim=0)\n",
    "#    aDecoded = model.decode(a)\n",
    "#    bDecoded = model.decode(b)\n",
    "#    save_image(aDecoded[0], 'imagea.png')\n",
    "#    save_image(aDecoded[0], 'imageb.png')\n",
    "    \n",
    "\n",
    "\n",
    "#decodeConcatenatedTensor(concatenatedTensor)\n",
    "from IPython.display import Image\n",
    "Image(filename='imagea.png')\n",
    "\n",
    "# print(a.shape)\n",
    "# print(b.shape)\n",
    "# recon_images = model.decode(b)\n",
    "# save_image(recon_images[0], 'test_image.png')\n",
    "# from IPython.display import Image\n",
    "# Image(filename='test_image.png')\n"
   ]
  },
  {
   "cell_type": "code",
   "execution_count": 9,
   "metadata": {},
   "outputs": [
    {
     "data": {
      "image/png": "[encoded data removed]",
      "text/plain": [
       "<IPython.core.display.Image object>"
      ]
     },
     "execution_count": 9,
     "metadata": {},
     "output_type": "execute_result"
    }
   ],
   "source": [
    "\n",
    "Image(filename='imageb.png')"
   ]
  },
  {
   "cell_type": "code",
   "execution_count": 10,
   "metadata": {},
   "outputs": [],
   "source": [
    "#Neural Network Parameters\n",
    "num_epochs = 30\n",
    "batch_size = bs\n",
    "learning_rate = 0.001\n",
    "\n",
    "input_size = 64 #Dimensions of the input \"concatenatedTensor\"\n",
    "hidden_size = [32,16,8]\n",
    "num_classes = 3 #Three state outputs. Acceleration. Braking. Turning Angle\n",
    "\n",
    "#rint(concatenatedTensor.shape)\n",
    "\n",
    "#Define neural network for this part\n",
    "class StateDetectionNet(nn.Module):\n",
    "    def __init__(self, input_size, hidden_size, num_classes):\n",
    "        super(StateDetectionNet, self).__init__()\n",
    "        self.fc1 = nn.Linear(input_size, hidden_size[0]) \n",
    "        self.relu = nn.ReLU()\n",
    "        self.fc2 = nn.Linear(hidden_size[0], hidden_size[1]) \n",
    "        self.relu = nn.ReLU()\n",
    "        self.fc3 = nn.Linear(hidden_size[1], hidden_size[2]) \n",
    "        self.relu = nn.ReLU()\n",
    "        self.fc4 = nn.Linear(hidden_size[2], num_classes)  \n",
    "    \n",
    "    def forward(self, x):\n",
    "        out = self.fc1(x.reshape(-1,input_size))\n",
    "        out = self.relu(out)\n",
    "        out = self.fc2(out)\n",
    "        out = self.relu(out)\n",
    "        out = self.fc3(out)\n",
    "        out = self.relu(out)\n",
    "        out = self.fc4(out)\n",
    "        return out\n",
    "\n",
    "model2 = StateDetectionNet(input_size, hidden_size, num_classes).to(device)\n",
    "\n",
    "#Define loss and optimizer\n",
    "loss = nn.MSELoss()\n",
    "optimizer = torch.optim.Adam(model2.parameters(), lr=learning_rate)  "
   ]
  },
  {
   "cell_type": "code",
   "execution_count": 11,
   "metadata": {},
   "outputs": [],
   "source": [
    "\n",
    "def getResultsFromStateVariables(statevariables):\n",
    "    \n",
    "    expectedResults = np.asarray(statevariables)\n",
    "    expectedResults2 = np.char.split(expectedResults,\"_\")\n",
    "    expectedResults3 = np.asarray(expectedResults2)\n",
    "    expectedResults4 = np.stack(expectedResults3, axis=0)\n",
    "    expectedResults5 = expectedResults4[0:,2:5]\n",
    "    expectedResults6 = expectedResults5.astype(np.float)\n",
    "    \n",
    "    mean_col1 = -0.026595786253976014\n",
    "    mean_col2 = 0.21783560955090628\n",
    "    mean_col3 = 0.007642476004356518\n",
    "    sd_col1 = 0.10711904839787884\n",
    "    sd_col2 = 0.09744389996469334\n",
    "    sd_col3 = 0.043793150114235936\n",
    "    \n",
    "    col1 = (expectedResults6[:,0]-mean_col1)/sd_col1\n",
    "    col2 = (expectedResults6[:,1]-mean_col2)/sd_col2\n",
    "    col3 = (expectedResults6[:,2]-mean_col3)/sd_col3\n",
    "    expectedResults7 = np.column_stack((col1,col2,col3))\n",
    "    \n",
    "    expectedResults8 = torch.FloatTensor(expectedResults7).to(device)\n",
    "    \n",
    "    return expectedResults8"
   ]
  },
  {
   "cell_type": "code",
   "execution_count": 14,
   "metadata": {},
   "outputs": [
    {
     "name": "stdout",
     "output_type": "stream",
     "text": [
      "Epoch[1/30] Loss: 748.759565357\n",
      "Epoch[2/30] Loss: 729.585540242\n",
      "Epoch[3/30] Loss: 704.056547445\n",
      "Epoch[4/30] Loss: 703.061175407\n",
      "Epoch[5/30] Loss: 695.029658990\n",
      "Epoch[6/30] Loss: 677.158094002\n",
      "Epoch[7/30] Loss: 659.134466995\n",
      "Epoch[8/30] Loss: 657.487108619\n",
      "Epoch[9/30] Loss: 724.753099207\n",
      "Epoch[10/30] Loss: 681.450049417\n",
      "Epoch[11/30] Loss: 641.133793038\n",
      "Epoch[12/30] Loss: 619.139516890\n",
      "Epoch[13/30] Loss: 622.958074915\n",
      "Epoch[14/30] Loss: 613.505535516\n",
      "Epoch[15/30] Loss: 636.061652295\n",
      "Epoch[16/30] Loss: 620.829412074\n",
      "Epoch[17/30] Loss: 619.568808940\n",
      "Epoch[18/30] Loss: 609.630934156\n",
      "Epoch[19/30] Loss: 614.998765244\n",
      "Epoch[20/30] Loss: 592.249316667\n",
      "Epoch[21/30] Loss: 590.014225107\n",
      "Epoch[22/30] Loss: 647.765436259\n",
      "Epoch[23/30] Loss: 559.476275864\n",
      "Epoch[24/30] Loss: 580.418957630\n",
      "Epoch[25/30] Loss: 599.963191128\n",
      "Epoch[26/30] Loss: 592.826866930\n",
      "Epoch[27/30] Loss: 600.179440994\n",
      "Epoch[28/30] Loss: 570.422828909\n",
      "Epoch[29/30] Loss: 570.399484426\n",
      "Epoch[30/30] Loss: 580.956094670\n"
     ]
    }
   ],
   "source": [
    "#Training\n",
    "for epoch in range(num_epochs):\n",
    "    running_loss = 0\n",
    "    for idx, (CurrentImage, PreviousImage, statevariables) in enumerate(dataloader):\n",
    "        expectedResults = getResultsFromStateVariables(statevariables)       \n",
    "        \n",
    "        CurrentImage = CurrentImage.to(device)\n",
    "        PreviousImage = PreviousImage.to(device)\n",
    "        curr, _, _ = model.encode(CurrentImage.to(device))\n",
    "        prev, _, _ = model.encode(PreviousImage.to(device))\n",
    "        concatenatedTensor = torch.cat([prev, curr], dim=1)\n",
    "        #print(expectedResults)\n",
    "        \n",
    "        out = model2(concatenatedTensor)\n",
    "        loss = nn.MSELoss()\n",
    "        loss = loss(out, expectedResults)\n",
    "        optimizer.zero_grad()\n",
    "        loss.backward()\n",
    "        optimizer.step()\n",
    "        running_loss += loss.data.item()\n",
    "        \n",
    "        #to_print = \"Loss: {:.9f}\".format(loss.data.item()/bs)\n",
    "        #print(idx)\n",
    "        #print(model2.state_dict())\n",
    "        #print(expectedResults8)\n",
    "        #print(statevariables)\n",
    "        #\n",
    "    to_print = \"Epoch[{}/{}] Loss: {:.9f}\".format(epoch+1,num_epochs, running_loss)#loss.data.item()/bs\n",
    "    print(to_print)\n",
    "    torch.save(model2.state_dict(), 'CurrentConditions.torch')\n",
    "    #print(epoch)\n",
    "        \n",
    "torch.save(model2.state_dict(), 'CurrentConditions.torch')"
   ]
  },
  {
   "cell_type": "code",
   "execution_count": 13,
   "metadata": {},
   "outputs": [
    {
     "data": {
      "text/plain": [
       "<All keys matched successfully>"
      ]
     },
     "execution_count": 13,
     "metadata": {},
     "output_type": "execute_result"
    }
   ],
   "source": [
    "#bs = 128\n",
    "model2.load_state_dict(torch.load('CurrentConditions.torch', map_location=device))"
   ]
  },
  {
   "cell_type": "code",
   "execution_count": 13,
   "metadata": {},
   "outputs": [
    {
     "name": "stdout",
     "output_type": "stream",
     "text": [
      "tensor([[ 0.2648,  0.3936, -0.1765]], device='cuda:0', grad_fn=<AddmmBackward>)\n",
      "tensor([[ 0.2313,  0.4547, -0.1745]], device='cuda:0')\n",
      "tensor([[ 0.0335, -0.0611, -0.0020]], device='cuda:0', grad_fn=<SubBackward0>)\n"
     ]
    }
   ],
   "source": [
    "CurrentImage, PreviousImage, statevariables = next(iter(dataloader))\n",
    "curr, _, _ = model.encode(CurrentImage.to(device))\n",
    "prev, _, _ = model.encode(PreviousImage.to(device))\n",
    "concatenatedTensor = torch.cat([prev, curr], dim=0)\n",
    "out = model2(concatenatedTensor)\n",
    "#out = out.cpu().detach().numpy() \n",
    "#mean_col1 = -0.026595786253976014\n",
    "#mean_col2 = 0.21783560955090628\n",
    "#mean_col3 = 0.007642476004356518\n",
    "#sd_col1 = 0.10711904839787884\n",
    "#sd_col2 = 0.09744389996469334\n",
    "#sd_col3 = 0.043793150114235936\n",
    "        \n",
    "#col1 = (out[:,0]-mean_col1)/sd_col1\n",
    "#col2 = (out[:,1]-mean_col2)/sd_col2\n",
    "#col3 = (out[:,2]-mean_col3)/sd_col3\n",
    "#out = np.column_stack((col1,col2,col3))\n",
    "#out = torch.FloatTensor(out).to(device)\n",
    "print(out)\n",
    "\n",
    "\n",
    "expectedResults = getResultsFromStateVariables(statevariables)\n",
    "print(expectedResults)\n",
    "\n",
    "print(out-expectedResults)\n",
    "\n",
    "#print(expectedResults.tolist()[0]*float(out.tolist()[0][0]))"
   ]
  },
  {
   "cell_type": "code",
   "execution_count": 54,
   "metadata": {},
   "outputs": [
    {
     "name": "stdout",
     "output_type": "stream",
     "text": [
      "tensor([[-0.0010,  0.2621,  0.0000],\n",
      "        [ 0.1692,  0.0000,  0.2621],\n",
      "        [ 0.0000,  0.2621,  0.0000],\n",
      "        [ 0.0000,  0.2621,  0.0000],\n",
      "        [ 0.0000,  0.0344,  0.0000],\n",
      "        [ 0.0000,  0.2621,  0.0000],\n",
      "        [ 0.0000,  0.2621,  0.0000],\n",
      "        [-0.2746,  0.2621,  0.0000],\n",
      "        [ 0.0000,  0.2621,  0.0000],\n",
      "        [-0.0805,  0.0000,  0.2621],\n",
      "        [-0.2746,  0.0000,  0.2621],\n",
      "        [ 0.0000,  0.0000,  0.0000],\n",
      "        [ 0.0034,  0.2621,  0.0000],\n",
      "        [ 0.0000,  0.2621,  0.0000],\n",
      "        [-0.2746,  0.0000,  0.0000],\n",
      "        [ 0.0000,  0.2621,  0.0000],\n",
      "        [-0.2746,  0.2621,  0.0000],\n",
      "        [ 0.0000,  0.2621,  0.0000],\n",
      "        [-0.2746,  0.2621,  0.0000],\n",
      "        [ 0.0000,  0.0000,  0.2621],\n",
      "        [-0.2746,  0.0000,  0.0123],\n",
      "        [ 0.0000,  0.2621,  0.0000],\n",
      "        [-0.2746,  0.2621,  0.0000],\n",
      "        [ 0.0000,  0.0000,  0.0000],\n",
      "        [ 0.0000,  0.2621,  0.0000],\n",
      "        [ 0.0000,  0.2621,  0.0000],\n",
      "        [ 0.0143,  0.2621,  0.0000],\n",
      "        [ 0.2382,  0.2621,  0.0000],\n",
      "        [ 0.0022,  0.2621,  0.0000],\n",
      "        [ 0.0069,  0.2621,  0.0000],\n",
      "        [-0.2746,  0.2621,  0.0000],\n",
      "        [-0.0016,  0.2621,  0.0000]], dtype=torch.float64)\n"
     ]
    }
   ],
   "source": [
    "expectedResults = list(statevariables)\n",
    "expectedResults= np.asarray(statevariables)#statevariables[1].split(\"_\")\n",
    "expectedResults = np.char.split(expectedResults,\"_\")\n",
    "expectedResults= np.asarray(expectedResults)\n",
    "expectedResults=np.stack(expectedResults, axis=0)\n",
    "expectedResults = expectedResults[0:,2:5]\n",
    "expectedResults = expectedResults.astype(np.float)\n",
    "expectedResults = torch.from_numpy(expectedResults)\n",
    "#expectedResults = list(np.float_(expectedResults))[2:5]\n",
    "#expectedResults = torch.FloatTensor(expectedResults).to(device)\n",
    "print(expectedResults)"
   ]
  },
  {
   "cell_type": "code",
   "execution_count": 29,
   "metadata": {},
   "outputs": [
    {
     "name": "stdout",
     "output_type": "stream",
     "text": [
      "0.043793150114235936\n"
     ]
    }
   ],
   "source": [
    "folder_path=f'D:/Kris\\'s Workbench/FYP/TrainingData/0/'\n",
    "image_list = glob.glob(folder_path+'*')\n",
    "data_len = len(image_list)\n",
    "num_samples = data_len\n",
    "\n",
    "finalList = list()\n",
    "for index in range(num_samples):\n",
    "        single_image_path = image_list[index]\n",
    "        ImageNameDataList = single_image_path[39:-4]\n",
    "        finalList.append(ImageNameDataList)\n",
    "        \n",
    "\n",
    "\n",
    "expectedResults= np.asarray(finalList)#statevariables[1].split(\"_\")\n",
    "expectedResults = np.char.split(expectedResults,\"_\")\n",
    "expectedResults= np.asarray(expectedResults)\n",
    "expectedResults=np.stack(expectedResults, axis=0)\n",
    "expectedResults = expectedResults[0:,2:5]\n",
    "expectedResults = expectedResults.astype(np.float)\n",
    "\n",
    "col1 = expectedResults[:,0]\n",
    "col2 = expectedResults[:,1]\n",
    "col3 = expectedResults[:,2]\n",
    "print(np.std(col3))\n",
    "\n",
    "mean_col1 = -0.026595786253976014\n",
    "mean_col2 = 0.21783560955090628\n",
    "mean_col3 = 0.007642476004356518\n",
    "sd_col1 = 0.10711904839787884\n",
    "sd_col2 = 0.09744389996469334\n",
    "sd_col3 = 0.043793150114235936"
   ]
  },
  {
   "cell_type": "code",
   "execution_count": null,
   "metadata": {},
   "outputs": [],
   "source": []
  }
 ],
 "metadata": {
  "kernelspec": {
   "display_name": "Python 3",
   "language": "python",
   "name": "python3"
  },
  "language_info": {
   "codemirror_mode": {
    "name": "ipython",
    "version": 3
   },
   "file_extension": ".py",
   "mimetype": "text/x-python",
   "name": "python",
   "nbconvert_exporter": "python",
   "pygments_lexer": "ipython3",
   "version": "3.8.5"
  }
 },
 "nbformat": 4,
 "nbformat_minor": 4
}
